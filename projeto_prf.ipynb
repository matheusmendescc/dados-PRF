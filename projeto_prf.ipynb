{
 "cells": [
  {
   "cell_type": "markdown",
   "metadata": {},
   "source": [
    "<div class=\"alert alert-block alert-info\">\n",
    "<center>ESTATÍSTICA APLICADA</center>\n",
    "<center>PROJETO 1</center>\n",
    "<center>ALUNO: MATHEUS MENDES CASTRO CAVALCANTE</center>\n",
    "</div>"
   ]
  },
  {
   "cell_type": "markdown",
   "metadata": {},
   "source": [
    "<div class=\"alert alert-block alert-info\">\n",
    "1ª Tarefa:\n",
    "    \n",
    "Carregar em dataframes os conjuntos de dados referentes ao ano de 2018, 2019 e 2020. Corrijir quaisquer erros que apareçam no carregamento dos arquivos. É possível acessar os arquivos\n",
    "compactados diretamente do site, sem precisar baixá-los?\n",
    "</div>"
   ]
  },
  {
   "cell_type": "markdown",
   "metadata": {},
   "source": [
    "**IMPORTAR AS BIBLIOTECAS 'PANDAS' E 'NUMPY'**"
   ]
  },
  {
   "cell_type": "code",
   "execution_count": 6,
   "metadata": {},
   "outputs": [],
   "source": [
    "import pandas as pd"
   ]
  },
  {
   "cell_type": "markdown",
   "metadata": {},
   "source": [
    "É POSSÍVEL ACESSAR, MAS É NECESSÁRIO O COMANDO PANDAS 'compression=zip' POIS ELE POR SI SÓ NÃO CONSEGUE ABRIR UM ARQUIVO ZIPADO, UTILIZANDO 'sep= ;' COMO SEPARADOR E ORGANIZADOR DOS DADOS, USEI TAMBÉM O LATIN1 PARA MUDAR A DECODIFICAÇÃO DE ONDE O ARQUIVO .csv ESTÁ SENDO RECEBIDO E UTILIZEI A FUNÇÃO low_memory PARA DIMINUIR O USO DA MEMÓRIA DO COMPUTADOR"
   ]
  },
  {
   "cell_type": "code",
   "execution_count": 10,
   "metadata": {},
   "outputs": [],
   "source": [
    "df_2018 = pd.read_csv(\"https://arquivos.prf.gov.br/arquivos/index.php/s/MaC6cieXSFACNWT/download\", compression=\"zip\", sep=\";\", encoding=\"latin1\",low_memory=False)\n",
    "df_2019 = pd.read_csv(\"https://arquivos.prf.gov.br/arquivos/index.php/s/kRBUylqz6DyQznN/download\", compression=\"zip\", sep=\";\", encoding=\"latin1\",low_memory=False)\n",
    "df_2020 = pd.read_csv(\"https://arquivos.prf.gov.br/arquivos/index.php/s/jdDLrQIf33xXSCe/download\", compression=\"zip\", sep=\";\", encoding=\"latin1\",low_memory=False)"
   ]
  },
  {
   "cell_type": "markdown",
   "metadata": {},
   "source": [
    "<div class=\"alert alert-block alert-info\">\n",
    "2ª Tarefa:\n",
    "    \n",
    "Explore os conjuntos de dados, respondendo as questões:\n",
    "</div>"
   ]
  },
  {
   "cell_type": "markdown",
   "metadata": {},
   "source": [
    "<div class=\"alert alert-block alert-info\">\n",
    "(a) quantos acidentes ocorreram em cada ano?\n",
    "</div>"
   ]
  },
  {
   "cell_type": "markdown",
   "metadata": {},
   "source": [
    "Usei a ferramenta \"len\" para contar quantos itens tem na coluna selecionada"
   ]
  },
  {
   "cell_type": "code",
   "execution_count": 11,
   "metadata": {
    "scrolled": true
   },
   "outputs": [
    {
     "name": "stdout",
     "output_type": "stream",
     "text": [
      "2018: 69295 Acidentes\n",
      "2019: 67446 Acidentes\n",
      "2020: 63548 Acidentes\n"
     ]
    }
   ],
   "source": [
    "n_acidentes2018 = len(df_2018)\n",
    "print(f'2018: {n_acidentes2018} Acidentes')\n",
    "n_acidentes2019 = len(df_2019)\n",
    "print(f'2019: {n_acidentes2019} Acidentes')\n",
    "n_acidentes2020 = len(df_2020)\n",
    "print(f'2020: {n_acidentes2020} Acidentes')"
   ]
  },
  {
   "cell_type": "markdown",
   "metadata": {},
   "source": [
    "Usei a ferramenta \"len\" para contar quantos itens tem na coluna selecionada"
   ]
  },
  {
   "cell_type": "markdown",
   "metadata": {},
   "source": [
    "<div class=\"alert alert-block alert-info\">\n",
    "    (b) quantas variáveis cada conjunto de dados registra?\n",
    "</div>"
   ]
  },
  {
   "cell_type": "code",
   "execution_count": 12,
   "metadata": {},
   "outputs": [
    {
     "name": "stdout",
     "output_type": "stream",
     "text": [
      "2018: 30 Variáveis\n",
      "2019: 30 Variáveis\n",
      "2020: 30 Variáveis\n"
     ]
    }
   ],
   "source": [
    "n_colunas_2018 = len(df_2018.columns)\n",
    "print(f'2018: {n_colunas_2018} Variáveis')\n",
    "n_colunas_2019 = len(df_2019.columns)\n",
    "print(f'2019: {n_colunas_2019} Variáveis')\n",
    "n_colunas_2020 = len(df_2020.columns)\n",
    "print(f'2020: {n_colunas_2020} Variáveis')"
   ]
  },
  {
   "cell_type": "markdown",
   "metadata": {},
   "source": [
    "<div class=\"alert alert-block alert-info\">\n",
    "(c) quais as cinco cidades brasileiras onde mais ocorreram acidentes em rodovias federais?\n",
    "</div>"
   ]
  },
  {
   "cell_type": "markdown",
   "metadata": {},
   "source": [
    "**MOSTRAR AS 5 CIDADES QUE MAIS TIVERAM ACIDENTES EM CADA ANO SEPARADAMENTE**\n",
    "\n",
    "Para depois unir em um único DataFrame todos os 3 anos e assim mostrar as 5 cidades onde mais ocorreram acidendes nos 3 anos juntos."
   ]
  },
  {
   "cell_type": "markdown",
   "metadata": {},
   "source": [
    "2018"
   ]
  },
  {
   "cell_type": "code",
   "execution_count": 13,
   "metadata": {},
   "outputs": [
    {
     "name": "stdout",
     "output_type": "stream",
     "text": [
      "----- AS CINCO CIDADES COM MAIS ACIDENTES EM 2018 -----\n"
     ]
    },
    {
     "data": {
      "text/plain": [
       "CURITIBA     1019\n",
       "SAO JOSE      874\n",
       "BRASILIA      867\n",
       "GUARULHOS     755\n",
       "PALHOCA       688\n",
       "Name: municipio, dtype: int64"
      ]
     },
     "execution_count": 13,
     "metadata": {},
     "output_type": "execute_result"
    }
   ],
   "source": [
    "print('----- AS CINCO CIDADES COM MAIS ACIDENTES EM 2018 -----')\n",
    "cinco_de_2018 = df_2018['municipio'].value_counts()\n",
    "cinco_de_2018.iloc[0:5]"
   ]
  },
  {
   "cell_type": "markdown",
   "metadata": {},
   "source": [
    "2019"
   ]
  },
  {
   "cell_type": "code",
   "execution_count": 14,
   "metadata": {},
   "outputs": [
    {
     "name": "stdout",
     "output_type": "stream",
     "text": [
      "----- AS CINCO CIDADES COM MAIS ACIDENTES EM 2019 -----\n"
     ]
    },
    {
     "data": {
      "text/plain": [
       "CURITIBA     1094\n",
       "BRASILIA     1090\n",
       "SAO JOSE      819\n",
       "GUARULHOS     717\n",
       "SERRA         633\n",
       "Name: municipio, dtype: int64"
      ]
     },
     "execution_count": 14,
     "metadata": {},
     "output_type": "execute_result"
    }
   ],
   "source": [
    "print('----- AS CINCO CIDADES COM MAIS ACIDENTES EM 2019 -----')\n",
    "cinco_de_2019 = df_2019['municipio'].value_counts()\n",
    "cinco_de_2019.iloc[0:5]"
   ]
  },
  {
   "cell_type": "markdown",
   "metadata": {},
   "source": [
    "2020"
   ]
  },
  {
   "cell_type": "code",
   "execution_count": 15,
   "metadata": {},
   "outputs": [
    {
     "name": "stdout",
     "output_type": "stream",
     "text": [
      "----- AS CINCO CIDADES COM MAIS ACIDENTES EM 2020 -----\n"
     ]
    },
    {
     "data": {
      "text/plain": [
       "BRASILIA     1040\n",
       "CURITIBA      950\n",
       "GUARULHOS     639\n",
       "SAO JOSE      629\n",
       "PALHOCA       593\n",
       "Name: municipio, dtype: int64"
      ]
     },
     "execution_count": 15,
     "metadata": {},
     "output_type": "execute_result"
    }
   ],
   "source": [
    "print('----- AS CINCO CIDADES COM MAIS ACIDENTES EM 2020 -----')\n",
    "cinco_de_2020 = df_2020['municipio'].value_counts()\n",
    "cinco_de_2020.iloc[0:5]"
   ]
  },
  {
   "cell_type": "markdown",
   "metadata": {},
   "source": [
    "UNIR OS 3 DATAFRAMES PARA INDENTIFICAR AS 5 CIDADES COM O MAIOR NÚMERO DE ACIDENTES NOS 3 ANOS JUNTOS\n",
    "\n",
    "Usando o comando Pandas .concat para concatenar os 3 DataFrames dos 3 respectivos anos"
   ]
  },
  {
   "cell_type": "code",
   "execution_count": 16,
   "metadata": {},
   "outputs": [
    {
     "data": {
      "text/plain": [
       "CURITIBA     3063\n",
       "BRASILIA     2997\n",
       "SAO JOSE     2322\n",
       "GUARULHOS    2111\n",
       "PALHOCA      1887\n",
       "Name: municipio, dtype: int64"
      ]
     },
     "execution_count": 16,
     "metadata": {},
     "output_type": "execute_result"
    }
   ],
   "source": [
    "df_total = pd.concat([df_2018, df_2019, df_2020], ignore_index=True)\n",
    "cinca_cidades_total = df_total['municipio'].value_counts()\n",
    "cinca_cidades_total.iloc[0:5]"
   ]
  },
  {
   "cell_type": "markdown",
   "metadata": {},
   "source": [
    "<div class=\"alert alert-block alert-info\">\n",
    "    (d) quantos acidentes com feridos graves aconteceram na Paraíba em 2019?\n",
    "</div>"
   ]
  },
  {
   "cell_type": "markdown",
   "metadata": {},
   "source": [
    "Criei um novo DataFrame selecionando apenas os acidentes datados no estado da Paraíba, logo em seguida ignorei o indices que consideravam feridos graves como ZERO e usei o comando . sum() para somar todos os feridos gravemente."
   ]
  },
  {
   "cell_type": "code",
   "execution_count": 17,
   "metadata": {},
   "outputs": [
    {
     "name": "stdout",
     "output_type": "stream",
     "text": [
      "Feridos Graves na Paraíba (2019): 414\n"
     ]
    }
   ],
   "source": [
    "df_2019\n",
    "pb_2019=df_2019[df_2019['uf']=='PB']\n",
    "pb_2019_graves = (pb_2019['feridos_graves']!=0)\n",
    "print(f'Feridos Graves na Paraíba (2019): {pb_2019_graves.sum()}')"
   ]
  },
  {
   "cell_type": "markdown",
   "metadata": {},
   "source": [
    "<div class=\"alert alert-block alert-info\">\n",
    "3ª Tarefa:\n",
    "    \n",
    "Para cada indicação abaixo, construa um novo dataframe, salvando-o com a terminação .csv.\n",
    "</div>"
   ]
  },
  {
   "cell_type": "markdown",
   "metadata": {},
   "source": [
    "<div class=\"alert alert-block alert-info\">\n",
    "(a) ranking de acidentes por estado para todos os anos (um só arquivo combinando a\n",
    "informação dos três anos);\n",
    "</div>"
   ]
  },
  {
   "cell_type": "markdown",
   "metadata": {},
   "source": [
    "Criei um novo DataFrame para selecionar apenas a coluna dos estados e usei o comendo .value_counts() para mostrar em ordem os Estados onde mais houveram acidentes nos 3 anos!"
   ]
  },
  {
   "cell_type": "code",
   "execution_count": 18,
   "metadata": {},
   "outputs": [
    {
     "data": {
      "text/html": [
       "<div>\n",
       "<style scoped>\n",
       "    .dataframe tbody tr th:only-of-type {\n",
       "        vertical-align: middle;\n",
       "    }\n",
       "\n",
       "    .dataframe tbody tr th {\n",
       "        vertical-align: top;\n",
       "    }\n",
       "\n",
       "    .dataframe thead th {\n",
       "        text-align: right;\n",
       "    }\n",
       "</style>\n",
       "<table border=\"1\" class=\"dataframe\">\n",
       "  <thead>\n",
       "    <tr style=\"text-align: right;\">\n",
       "      <th></th>\n",
       "      <th>uf</th>\n",
       "    </tr>\n",
       "  </thead>\n",
       "  <tbody>\n",
       "    <tr>\n",
       "      <th>MG</th>\n",
       "      <td>26160</td>\n",
       "    </tr>\n",
       "    <tr>\n",
       "      <th>SC</th>\n",
       "      <td>24145</td>\n",
       "    </tr>\n",
       "    <tr>\n",
       "      <th>PR</th>\n",
       "      <td>22850</td>\n",
       "    </tr>\n",
       "    <tr>\n",
       "      <th>RJ</th>\n",
       "      <td>13417</td>\n",
       "    </tr>\n",
       "    <tr>\n",
       "      <th>RS</th>\n",
       "      <td>13216</td>\n",
       "    </tr>\n",
       "    <tr>\n",
       "      <th>SP</th>\n",
       "      <td>12936</td>\n",
       "    </tr>\n",
       "    <tr>\n",
       "      <th>BA</th>\n",
       "      <td>10482</td>\n",
       "    </tr>\n",
       "    <tr>\n",
       "      <th>GO</th>\n",
       "      <td>10046</td>\n",
       "    </tr>\n",
       "    <tr>\n",
       "      <th>ES</th>\n",
       "      <td>8018</td>\n",
       "    </tr>\n",
       "    <tr>\n",
       "      <th>PE</th>\n",
       "      <td>8011</td>\n",
       "    </tr>\n",
       "    <tr>\n",
       "      <th>MT</th>\n",
       "      <td>6963</td>\n",
       "    </tr>\n",
       "    <tr>\n",
       "      <th>CE</th>\n",
       "      <td>4962</td>\n",
       "    </tr>\n",
       "    <tr>\n",
       "      <th>RO</th>\n",
       "      <td>4648</td>\n",
       "    </tr>\n",
       "    <tr>\n",
       "      <th>PB</th>\n",
       "      <td>4553</td>\n",
       "    </tr>\n",
       "    <tr>\n",
       "      <th>MS</th>\n",
       "      <td>4505</td>\n",
       "    </tr>\n",
       "    <tr>\n",
       "      <th>RN</th>\n",
       "      <td>4190</td>\n",
       "    </tr>\n",
       "    <tr>\n",
       "      <th>PI</th>\n",
       "      <td>3920</td>\n",
       "    </tr>\n",
       "    <tr>\n",
       "      <th>MA</th>\n",
       "      <td>3501</td>\n",
       "    </tr>\n",
       "    <tr>\n",
       "      <th>PA</th>\n",
       "      <td>3040</td>\n",
       "    </tr>\n",
       "    <tr>\n",
       "      <th>DF</th>\n",
       "      <td>2997</td>\n",
       "    </tr>\n",
       "    <tr>\n",
       "      <th>AL</th>\n",
       "      <td>1948</td>\n",
       "    </tr>\n",
       "    <tr>\n",
       "      <th>SE</th>\n",
       "      <td>1746</td>\n",
       "    </tr>\n",
       "    <tr>\n",
       "      <th>TO</th>\n",
       "      <td>1704</td>\n",
       "    </tr>\n",
       "    <tr>\n",
       "      <th>AC</th>\n",
       "      <td>789</td>\n",
       "    </tr>\n",
       "    <tr>\n",
       "      <th>RR</th>\n",
       "      <td>723</td>\n",
       "    </tr>\n",
       "    <tr>\n",
       "      <th>AP</th>\n",
       "      <td>456</td>\n",
       "    </tr>\n",
       "    <tr>\n",
       "      <th>AM</th>\n",
       "      <td>363</td>\n",
       "    </tr>\n",
       "  </tbody>\n",
       "</table>\n",
       "</div>"
      ],
      "text/plain": [
       "       uf\n",
       "MG  26160\n",
       "SC  24145\n",
       "PR  22850\n",
       "RJ  13417\n",
       "RS  13216\n",
       "SP  12936\n",
       "BA  10482\n",
       "GO  10046\n",
       "ES   8018\n",
       "PE   8011\n",
       "MT   6963\n",
       "CE   4962\n",
       "RO   4648\n",
       "PB   4553\n",
       "MS   4505\n",
       "RN   4190\n",
       "PI   3920\n",
       "MA   3501\n",
       "PA   3040\n",
       "DF   2997\n",
       "AL   1948\n",
       "SE   1746\n",
       "TO   1704\n",
       "AC    789\n",
       "RR    723\n",
       "AP    456\n",
       "AM    363"
      ]
     },
     "execution_count": 18,
     "metadata": {},
     "output_type": "execute_result"
    }
   ],
   "source": [
    "df_total_3a = df_total['uf'].value_counts()\n",
    "df_total_por_estado = pd.DataFrame(df_total_3a)\n",
    "df_total_por_estado"
   ]
  },
  {
   "cell_type": "markdown",
   "metadata": {},
   "source": [
    "Para salvar o novo DataFrame em um arquivo .csv, usei o comando .to_csv colocando o \"index=True\" para formatar então o novo DF criado."
   ]
  },
  {
   "cell_type": "code",
   "execution_count": 19,
   "metadata": {},
   "outputs": [
    {
     "data": {
      "text/plain": [
       "',uf\\r\\nMG,26160\\r\\nSC,24145\\r\\nPR,22850\\r\\nRJ,13417\\r\\nRS,13216\\r\\nSP,12936\\r\\nBA,10482\\r\\nGO,10046\\r\\nES,8018\\r\\nPE,8011\\r\\nMT,6963\\r\\nCE,4962\\r\\nRO,4648\\r\\nPB,4553\\r\\nMS,4505\\r\\nRN,4190\\r\\nPI,3920\\r\\nMA,3501\\r\\nPA,3040\\r\\nDF,2997\\r\\nAL,1948\\r\\nSE,1746\\r\\nTO,1704\\r\\nAC,789\\r\\nRR,723\\r\\nAP,456\\r\\nAM,363\\r\\n'"
      ]
     },
     "execution_count": 19,
     "metadata": {},
     "output_type": "execute_result"
    }
   ],
   "source": [
    "df_total_3a.to_csv(index=True)"
   ]
  },
  {
   "cell_type": "markdown",
   "metadata": {},
   "source": [
    "<div class=\"alert alert-block alert-info\">\n",
    "(b) acidentes por dia da semana para todos os anos (um só arquivo combinando a informação dos três anos).\n",
    "</div>"
   ]
  },
  {
   "cell_type": "markdown",
   "metadata": {},
   "source": [
    "CRIEI UM DATAFRAME COM OS PARA MOSTRAR O TOTAL DE CASOS EM CADA DIA DA SEMANA NOS 3 ANOS JUNTOS, UTILIZANDO O COMANDO .value_counts()"
   ]
  },
  {
   "cell_type": "code",
   "execution_count": 20,
   "metadata": {},
   "outputs": [
    {
     "data": {
      "text/html": [
       "<div>\n",
       "<style scoped>\n",
       "    .dataframe tbody tr th:only-of-type {\n",
       "        vertical-align: middle;\n",
       "    }\n",
       "\n",
       "    .dataframe tbody tr th {\n",
       "        vertical-align: top;\n",
       "    }\n",
       "\n",
       "    .dataframe thead th {\n",
       "        text-align: right;\n",
       "    }\n",
       "</style>\n",
       "<table border=\"1\" class=\"dataframe\">\n",
       "  <thead>\n",
       "    <tr style=\"text-align: right;\">\n",
       "      <th></th>\n",
       "      <th>dia_semana</th>\n",
       "    </tr>\n",
       "  </thead>\n",
       "  <tbody>\n",
       "    <tr>\n",
       "      <th>sábado</th>\n",
       "      <td>33005</td>\n",
       "    </tr>\n",
       "    <tr>\n",
       "      <th>domingo</th>\n",
       "      <td>33001</td>\n",
       "    </tr>\n",
       "    <tr>\n",
       "      <th>sexta-feira</th>\n",
       "      <td>30777</td>\n",
       "    </tr>\n",
       "    <tr>\n",
       "      <th>segunda-feira</th>\n",
       "      <td>27075</td>\n",
       "    </tr>\n",
       "    <tr>\n",
       "      <th>quinta-feira</th>\n",
       "      <td>26229</td>\n",
       "    </tr>\n",
       "    <tr>\n",
       "      <th>quarta-feira</th>\n",
       "      <td>25353</td>\n",
       "    </tr>\n",
       "    <tr>\n",
       "      <th>terça-feira</th>\n",
       "      <td>24849</td>\n",
       "    </tr>\n",
       "  </tbody>\n",
       "</table>\n",
       "</div>"
      ],
      "text/plain": [
       "               dia_semana\n",
       "sábado              33005\n",
       "domingo             33001\n",
       "sexta-feira         30777\n",
       "segunda-feira       27075\n",
       "quinta-feira        26229\n",
       "quarta-feira        25353\n",
       "terça-feira         24849"
      ]
     },
     "execution_count": 20,
     "metadata": {},
     "output_type": "execute_result"
    }
   ],
   "source": [
    "df_total_3b = df_total['dia_semana'].value_counts()\n",
    "df_total_dia_semana=pd.DataFrame(df_total_3b)\n",
    "df_total_dia_semana"
   ]
  },
  {
   "cell_type": "markdown",
   "metadata": {},
   "source": [
    "Para salvar o novo DataFrame em um arquivo .csv, usei o comando .to_csv colocando o \"index=True\" para formatar então o novo DF criado."
   ]
  },
  {
   "cell_type": "code",
   "execution_count": 21,
   "metadata": {},
   "outputs": [
    {
     "data": {
      "text/plain": [
       "',dia_semana\\r\\nsábado,33005\\r\\ndomingo,33001\\r\\nsexta-feira,30777\\r\\nsegunda-feira,27075\\r\\nquinta-feira,26229\\r\\nquarta-feira,25353\\r\\nterça-feira,24849\\r\\n'"
      ]
     },
     "execution_count": 21,
     "metadata": {},
     "output_type": "execute_result"
    }
   ],
   "source": [
    "df_total_3b.to_csv(index=True)"
   ]
  },
  {
   "cell_type": "markdown",
   "metadata": {},
   "source": [
    "<div class=\"alert alert-block alert-info\">\n",
    "4ª Tarefa:\n",
    "\n",
    "Com relação a ocorrência dos acidentes, responda:\n",
    "</div>"
   ]
  },
  {
   "cell_type": "markdown",
   "metadata": {},
   "source": [
    "<div class=\"alert alert-block alert-info\">\n",
    "(a) qual a causa mais frequente e a mais rara de acidentes registrados nos três anos?\n",
    "</div>"
   ]
  },
  {
   "cell_type": "markdown",
   "metadata": {},
   "source": [
    "Usei a função .head(1) para selecionar o primeiro indice na qual representa a causa de acidente mais frequente"
   ]
  },
  {
   "cell_type": "code",
   "execution_count": 22,
   "metadata": {},
   "outputs": [
    {
     "data": {
      "text/html": [
       "<div>\n",
       "<style scoped>\n",
       "    .dataframe tbody tr th:only-of-type {\n",
       "        vertical-align: middle;\n",
       "    }\n",
       "\n",
       "    .dataframe tbody tr th {\n",
       "        vertical-align: top;\n",
       "    }\n",
       "\n",
       "    .dataframe thead th {\n",
       "        text-align: right;\n",
       "    }\n",
       "</style>\n",
       "<table border=\"1\" class=\"dataframe\">\n",
       "  <thead>\n",
       "    <tr style=\"text-align: right;\">\n",
       "      <th></th>\n",
       "      <th>causa_acidente</th>\n",
       "    </tr>\n",
       "  </thead>\n",
       "  <tbody>\n",
       "    <tr>\n",
       "      <th>Falta de Atenção à Condução</th>\n",
       "      <td>73231</td>\n",
       "    </tr>\n",
       "  </tbody>\n",
       "</table>\n",
       "</div>"
      ],
      "text/plain": [
       "                             causa_acidente\n",
       "Falta de Atenção à Condução           73231"
      ]
     },
     "execution_count": 22,
     "metadata": {},
     "output_type": "execute_result"
    }
   ],
   "source": [
    "df_acidente_mais_frequente = df_total['causa_acidente'].value_counts()\n",
    "df_acidente_mais_frequente=pd.DataFrame(df_acidente_mais_frequente.head(1))\n",
    "df_acidente_mais_frequente"
   ]
  },
  {
   "cell_type": "markdown",
   "metadata": {},
   "source": [
    "Usei a função .query para filtrar os indices como menor incidência, igualando a coluna == menor valor possível."
   ]
  },
  {
   "cell_type": "code",
   "execution_count": 23,
   "metadata": {},
   "outputs": [
    {
     "data": {
      "text/html": [
       "<div>\n",
       "<style scoped>\n",
       "    .dataframe tbody tr th:only-of-type {\n",
       "        vertical-align: middle;\n",
       "    }\n",
       "\n",
       "    .dataframe tbody tr th {\n",
       "        vertical-align: top;\n",
       "    }\n",
       "\n",
       "    .dataframe thead th {\n",
       "        text-align: right;\n",
       "    }\n",
       "</style>\n",
       "<table border=\"1\" class=\"dataframe\">\n",
       "  <thead>\n",
       "    <tr style=\"text-align: right;\">\n",
       "      <th></th>\n",
       "      <th>causa_acidente</th>\n",
       "    </tr>\n",
       "  </thead>\n",
       "  <tbody>\n",
       "    <tr>\n",
       "      <th>Pedestre cruzava a pista fora da faixa</th>\n",
       "      <td>1</td>\n",
       "    </tr>\n",
       "    <tr>\n",
       "      <th>Pista esburacada</th>\n",
       "      <td>1</td>\n",
       "    </tr>\n",
       "    <tr>\n",
       "      <th>Frear bruscamente</th>\n",
       "      <td>1</td>\n",
       "    </tr>\n",
       "    <tr>\n",
       "      <th>Curva acentuada</th>\n",
       "      <td>1</td>\n",
       "    </tr>\n",
       "    <tr>\n",
       "      <th>Ingestão de álcool ou de substâncias psicoativas pelo pedestre</th>\n",
       "      <td>1</td>\n",
       "    </tr>\n",
       "    <tr>\n",
       "      <th>Estacionar ou parar em local proibido</th>\n",
       "      <td>1</td>\n",
       "    </tr>\n",
       "    <tr>\n",
       "      <th>Acumulo de areia ou detritos sobre o pavimento</th>\n",
       "      <td>1</td>\n",
       "    </tr>\n",
       "    <tr>\n",
       "      <th>Ausência de sinalização</th>\n",
       "      <td>1</td>\n",
       "    </tr>\n",
       "    <tr>\n",
       "      <th>Fumaça</th>\n",
       "      <td>1</td>\n",
       "    </tr>\n",
       "    <tr>\n",
       "      <th>Acumulo de óleo sobre o pavimento</th>\n",
       "      <td>1</td>\n",
       "    </tr>\n",
       "    <tr>\n",
       "      <th>Condutor usando celular</th>\n",
       "      <td>1</td>\n",
       "    </tr>\n",
       "    <tr>\n",
       "      <th>Acostamento em desnível</th>\n",
       "      <td>1</td>\n",
       "    </tr>\n",
       "  </tbody>\n",
       "</table>\n",
       "</div>"
      ],
      "text/plain": [
       "                                                    causa_acidente\n",
       "Pedestre cruzava a pista fora da faixa                           1\n",
       "Pista esburacada                                                 1\n",
       "Frear bruscamente                                                1\n",
       "Curva acentuada                                                  1\n",
       "Ingestão de álcool ou de substâncias psicoativa...               1\n",
       "Estacionar ou parar em local proibido                            1\n",
       "Acumulo de areia ou detritos sobre o pavimento                   1\n",
       "Ausência de sinalização                                          1\n",
       "Fumaça                                                           1\n",
       "Acumulo de óleo sobre o pavimento                                1\n",
       "Condutor usando celular                                          1\n",
       "Acostamento em desnível                                          1"
      ]
     },
     "execution_count": 23,
     "metadata": {},
     "output_type": "execute_result"
    }
   ],
   "source": [
    "df_acidente_menos_frequente = df_total['causa_acidente'].value_counts()\n",
    "df_acidente_menos_frequente = pd.DataFrame(df_acidente_menos_frequente)\n",
    "df_acidente_menos_frequente.query('causa_acidente == 1')"
   ]
  },
  {
   "cell_type": "markdown",
   "metadata": {},
   "source": [
    "<div class=\"alert alert-block alert-info\">\n",
    "(b) qual a proporção de pessoas ilesas e de feridos graves por mês em cada um dos anos\n",
    "considerados? (proporção = numero de ilesos ou feridos graves/ número total de\n",
    "pessoas envolvidas no acidente);\n",
    "\n",
    "</div>"
   ]
  },
  {
   "cell_type": "markdown",
   "metadata": {},
   "source": [
    "## 2018"
   ]
  },
  {
   "cell_type": "markdown",
   "metadata": {},
   "source": [
    "Transformar a coluna 'data_inversa' no tipo 'datatime64', para poder manipular os dados através das datas!"
   ]
  },
  {
   "cell_type": "code",
   "execution_count": 24,
   "metadata": {},
   "outputs": [],
   "source": [
    "df_meses_2018 = (df_2018)\n",
    "df_meses_2018['data_inversa'] = pd.to_datetime(df_meses_2018['data_inversa'])"
   ]
  },
  {
   "cell_type": "markdown",
   "metadata": {},
   "source": [
    "# **RELAÇÃO ILESOS/TOTAL DE PESSOAS - 2018**"
   ]
  },
  {
   "cell_type": "markdown",
   "metadata": {},
   "source": [
    "*Usei a ferramenta .groupby para agrupar o número de pessoas ilesas em seus respectivos meses do ano de 2018\n",
    "\n",
    "*CRIEI UM NOVO DATA FRAME COM AS INFORMAÇÕES OBTIDAS"
   ]
  },
  {
   "cell_type": "code",
   "execution_count": 25,
   "metadata": {},
   "outputs": [],
   "source": [
    "#AGRUPAMENTO POR MÊS\n",
    "agrupamento_mes_ilesos_2018 = pd.DataFrame(df_meses_2018.groupby(df_meses_2018['data_inversa'].dt.month)['ilesos'].sum())"
   ]
  },
  {
   "cell_type": "markdown",
   "metadata": {},
   "source": [
    "*Usei a ferramenta .groupby para agrupar o número de pessoas em seus respectivos meses do ano de 2018\n",
    "\n",
    "*CRIEI UM NOVO DATA FRAME COM AS INFORMAÇÕES OBTIDAS"
   ]
  },
  {
   "cell_type": "code",
   "execution_count": 26,
   "metadata": {},
   "outputs": [],
   "source": [
    "#AGRUPAMENTO POR MÊS DO TOTAL DE PESSOAS\n",
    "agrupamento_mes_total_2018 = pd.DataFrame(df_meses_2018.groupby(df_meses_2018['data_inversa'].dt.month)['pessoas'].sum())"
   ]
  },
  {
   "cell_type": "markdown",
   "metadata": {},
   "source": [
    "FIZ A JUNÇÃO DOS DOIS DATAFRAMES NOVOS CRIADOS PARA FAZER A OPERAÇÃO DE RELAÇÃO ENTRE OS VALORES USANDO A FUNÇÃO PANDAS .concat()"
   ]
  },
  {
   "cell_type": "code",
   "execution_count": 27,
   "metadata": {},
   "outputs": [],
   "source": [
    "df_relacao_ilesas_2018 = pd.concat([agrupamento_mes_ilesos_2018, agrupamento_mes_total_2018], axis=1)"
   ]
  },
  {
   "cell_type": "markdown",
   "metadata": {},
   "source": [
    "ENTÃO, FIZ A RELAÇÃO ENTRE O NÚMERO DE PESSOAS ILESAS DO ACIDENTE COM O TOTAL DE PESSOAS DE CADA MÊS E CRIEI UMA NOVA COLUNA PARA MOSTRAR ESTE RESULTADO"
   ]
  },
  {
   "cell_type": "code",
   "execution_count": 28,
   "metadata": {},
   "outputs": [
    {
     "data": {
      "text/html": [
       "<div>\n",
       "<style scoped>\n",
       "    .dataframe tbody tr th:only-of-type {\n",
       "        vertical-align: middle;\n",
       "    }\n",
       "\n",
       "    .dataframe tbody tr th {\n",
       "        vertical-align: top;\n",
       "    }\n",
       "\n",
       "    .dataframe thead th {\n",
       "        text-align: right;\n",
       "    }\n",
       "</style>\n",
       "<table border=\"1\" class=\"dataframe\">\n",
       "  <thead>\n",
       "    <tr style=\"text-align: right;\">\n",
       "      <th></th>\n",
       "      <th>ilesos</th>\n",
       "      <th>pessoas</th>\n",
       "      <th>proporção (ilesos/total)</th>\n",
       "    </tr>\n",
       "    <tr>\n",
       "      <th>data_inversa</th>\n",
       "      <th></th>\n",
       "      <th></th>\n",
       "      <th></th>\n",
       "    </tr>\n",
       "  </thead>\n",
       "  <tbody>\n",
       "    <tr>\n",
       "      <th>1</th>\n",
       "      <td>8554</td>\n",
       "      <td>16665</td>\n",
       "      <td>0.513291</td>\n",
       "    </tr>\n",
       "    <tr>\n",
       "      <th>2</th>\n",
       "      <td>6999</td>\n",
       "      <td>14047</td>\n",
       "      <td>0.498256</td>\n",
       "    </tr>\n",
       "    <tr>\n",
       "      <th>3</th>\n",
       "      <td>7276</td>\n",
       "      <td>15110</td>\n",
       "      <td>0.481535</td>\n",
       "    </tr>\n",
       "    <tr>\n",
       "      <th>4</th>\n",
       "      <td>5691</td>\n",
       "      <td>13230</td>\n",
       "      <td>0.430159</td>\n",
       "    </tr>\n",
       "    <tr>\n",
       "      <th>5</th>\n",
       "      <td>4851</td>\n",
       "      <td>11489</td>\n",
       "      <td>0.422230</td>\n",
       "    </tr>\n",
       "    <tr>\n",
       "      <th>6</th>\n",
       "      <td>5471</td>\n",
       "      <td>12870</td>\n",
       "      <td>0.425097</td>\n",
       "    </tr>\n",
       "    <tr>\n",
       "      <th>7</th>\n",
       "      <td>5958</td>\n",
       "      <td>13618</td>\n",
       "      <td>0.437509</td>\n",
       "    </tr>\n",
       "    <tr>\n",
       "      <th>8</th>\n",
       "      <td>5456</td>\n",
       "      <td>12776</td>\n",
       "      <td>0.427051</td>\n",
       "    </tr>\n",
       "    <tr>\n",
       "      <th>9</th>\n",
       "      <td>5480</td>\n",
       "      <td>13027</td>\n",
       "      <td>0.420665</td>\n",
       "    </tr>\n",
       "    <tr>\n",
       "      <th>10</th>\n",
       "      <td>5545</td>\n",
       "      <td>12890</td>\n",
       "      <td>0.430178</td>\n",
       "    </tr>\n",
       "    <tr>\n",
       "      <th>11</th>\n",
       "      <td>5719</td>\n",
       "      <td>13197</td>\n",
       "      <td>0.433356</td>\n",
       "    </tr>\n",
       "    <tr>\n",
       "      <th>12</th>\n",
       "      <td>6876</td>\n",
       "      <td>15883</td>\n",
       "      <td>0.432916</td>\n",
       "    </tr>\n",
       "  </tbody>\n",
       "</table>\n",
       "</div>"
      ],
      "text/plain": [
       "              ilesos  pessoas  proporção (ilesos/total)\n",
       "data_inversa                                           \n",
       "1               8554    16665                  0.513291\n",
       "2               6999    14047                  0.498256\n",
       "3               7276    15110                  0.481535\n",
       "4               5691    13230                  0.430159\n",
       "5               4851    11489                  0.422230\n",
       "6               5471    12870                  0.425097\n",
       "7               5958    13618                  0.437509\n",
       "8               5456    12776                  0.427051\n",
       "9               5480    13027                  0.420665\n",
       "10              5545    12890                  0.430178\n",
       "11              5719    13197                  0.433356\n",
       "12              6876    15883                  0.432916"
      ]
     },
     "execution_count": 28,
     "metadata": {},
     "output_type": "execute_result"
    }
   ],
   "source": [
    "df_relacao_ilesas_2018['proporção (ilesos/total)'] = df_relacao_ilesas_2018['ilesos'] / df_relacao_ilesas_2018['pessoas']\n",
    "df_relacao_ilesas_2018"
   ]
  },
  {
   "cell_type": "markdown",
   "metadata": {},
   "source": [
    "# **RELAÇÃO FERIDOS GRAVES/TOTAL DE PESSOAS - 2018**"
   ]
  },
  {
   "cell_type": "markdown",
   "metadata": {},
   "source": [
    "*Usei a ferramenta .groupby para agrupar o número de pessoas FERIDAS GRAVEMENTE em seus respectivos meses do ano de 2018\n",
    "\n",
    "*CRIEI UM NOVO DATA FRAME COM AS INFORMAÇÕES OBTIDAS"
   ]
  },
  {
   "cell_type": "code",
   "execution_count": 29,
   "metadata": {},
   "outputs": [],
   "source": [
    "#AGRUPAMENTO POR MÊS DOS FERIDOS GRAVEMENTE\n",
    "agrupamento_mes_feridosGrave_2018 = pd.DataFrame(df_meses_2018.groupby(df_meses_2018['data_inversa'].dt.month)['feridos_graves'].sum())"
   ]
  },
  {
   "cell_type": "markdown",
   "metadata": {},
   "source": [
    "FIZ A JUNÇÃO DOS DOIS DATAFRAMES NOVOS CRIADOS PARA FAZER A OPERAÇÃO DE RELAÇÃO ENTRE OS VALORES USANDO A FUNÇÃO PANDAS .concat()"
   ]
  },
  {
   "cell_type": "code",
   "execution_count": 30,
   "metadata": {},
   "outputs": [],
   "source": [
    "df_relacao_feridosGrave = pd.concat([agrupamento_mes_feridosGrave_2018, agrupamento_mes_total_2018], axis=1)"
   ]
  },
  {
   "cell_type": "markdown",
   "metadata": {},
   "source": [
    "ENTÃO, FIZ A RELAÇÃO ENTRE O NÚMERO DE PESSOAS FERIDAS GRAVEMENTE DO ACIDENTE COM O TOTAL DE PESSOAS DE CADA MÊS E CRIEI UMA NOVA COLUNA PARA MOSTRAR ESTE RESULTADO"
   ]
  },
  {
   "cell_type": "code",
   "execution_count": 31,
   "metadata": {},
   "outputs": [
    {
     "data": {
      "text/html": [
       "<div>\n",
       "<style scoped>\n",
       "    .dataframe tbody tr th:only-of-type {\n",
       "        vertical-align: middle;\n",
       "    }\n",
       "\n",
       "    .dataframe tbody tr th {\n",
       "        vertical-align: top;\n",
       "    }\n",
       "\n",
       "    .dataframe thead th {\n",
       "        text-align: right;\n",
       "    }\n",
       "</style>\n",
       "<table border=\"1\" class=\"dataframe\">\n",
       "  <thead>\n",
       "    <tr style=\"text-align: right;\">\n",
       "      <th></th>\n",
       "      <th>feridos_graves</th>\n",
       "      <th>pessoas</th>\n",
       "      <th>proporção (feridos_graves/total)</th>\n",
       "    </tr>\n",
       "    <tr>\n",
       "      <th>data_inversa</th>\n",
       "      <th></th>\n",
       "      <th></th>\n",
       "      <th></th>\n",
       "    </tr>\n",
       "  </thead>\n",
       "  <tbody>\n",
       "    <tr>\n",
       "      <th>1</th>\n",
       "      <td>1510</td>\n",
       "      <td>16665</td>\n",
       "      <td>0.090609</td>\n",
       "    </tr>\n",
       "    <tr>\n",
       "      <th>2</th>\n",
       "      <td>1295</td>\n",
       "      <td>14047</td>\n",
       "      <td>0.092191</td>\n",
       "    </tr>\n",
       "    <tr>\n",
       "      <th>3</th>\n",
       "      <td>1539</td>\n",
       "      <td>15110</td>\n",
       "      <td>0.101853</td>\n",
       "    </tr>\n",
       "    <tr>\n",
       "      <th>4</th>\n",
       "      <td>1492</td>\n",
       "      <td>13230</td>\n",
       "      <td>0.112774</td>\n",
       "    </tr>\n",
       "    <tr>\n",
       "      <th>5</th>\n",
       "      <td>1315</td>\n",
       "      <td>11489</td>\n",
       "      <td>0.114457</td>\n",
       "    </tr>\n",
       "    <tr>\n",
       "      <th>6</th>\n",
       "      <td>1498</td>\n",
       "      <td>12870</td>\n",
       "      <td>0.116395</td>\n",
       "    </tr>\n",
       "    <tr>\n",
       "      <th>7</th>\n",
       "      <td>1502</td>\n",
       "      <td>13618</td>\n",
       "      <td>0.110295</td>\n",
       "    </tr>\n",
       "    <tr>\n",
       "      <th>8</th>\n",
       "      <td>1359</td>\n",
       "      <td>12776</td>\n",
       "      <td>0.106371</td>\n",
       "    </tr>\n",
       "    <tr>\n",
       "      <th>9</th>\n",
       "      <td>1504</td>\n",
       "      <td>13027</td>\n",
       "      <td>0.115453</td>\n",
       "    </tr>\n",
       "    <tr>\n",
       "      <th>10</th>\n",
       "      <td>1452</td>\n",
       "      <td>12890</td>\n",
       "      <td>0.112645</td>\n",
       "    </tr>\n",
       "    <tr>\n",
       "      <th>11</th>\n",
       "      <td>1523</td>\n",
       "      <td>13197</td>\n",
       "      <td>0.115405</td>\n",
       "    </tr>\n",
       "    <tr>\n",
       "      <th>12</th>\n",
       "      <td>1717</td>\n",
       "      <td>15883</td>\n",
       "      <td>0.108103</td>\n",
       "    </tr>\n",
       "  </tbody>\n",
       "</table>\n",
       "</div>"
      ],
      "text/plain": [
       "              feridos_graves  pessoas  proporção (feridos_graves/total)\n",
       "data_inversa                                                           \n",
       "1                       1510    16665                          0.090609\n",
       "2                       1295    14047                          0.092191\n",
       "3                       1539    15110                          0.101853\n",
       "4                       1492    13230                          0.112774\n",
       "5                       1315    11489                          0.114457\n",
       "6                       1498    12870                          0.116395\n",
       "7                       1502    13618                          0.110295\n",
       "8                       1359    12776                          0.106371\n",
       "9                       1504    13027                          0.115453\n",
       "10                      1452    12890                          0.112645\n",
       "11                      1523    13197                          0.115405\n",
       "12                      1717    15883                          0.108103"
      ]
     },
     "execution_count": 31,
     "metadata": {},
     "output_type": "execute_result"
    }
   ],
   "source": [
    "df_relacao_feridosGrave['proporção (feridos_graves/total)'] = df_relacao_feridosGrave['feridos_graves'] / df_relacao_feridosGrave['pessoas']\n",
    "df_relacao_feridosGrave"
   ]
  },
  {
   "cell_type": "markdown",
   "metadata": {},
   "source": [
    "## 2019"
   ]
  },
  {
   "cell_type": "markdown",
   "metadata": {},
   "source": [
    "Transformar a coluna 'data_inversa' no tipo 'datatime64', para poder manipular os dados através das datas!"
   ]
  },
  {
   "cell_type": "code",
   "execution_count": 32,
   "metadata": {},
   "outputs": [],
   "source": [
    "df_meses_2019 = (df_2019)\n",
    "df_meses_2019['data_inversa'] = pd.to_datetime(df_meses_2019['data_inversa'])"
   ]
  },
  {
   "cell_type": "markdown",
   "metadata": {},
   "source": [
    "# **RELAÇÃO ILESOS/TOTAL DE PESSOAS - 2019**"
   ]
  },
  {
   "cell_type": "markdown",
   "metadata": {},
   "source": [
    "*Usei a ferramenta .groupby para agrupar o número de pessoas ilesas em seus respectivos meses do ano de 2019\n",
    "\n",
    "*CRIEI UM NOVO DATA FRAME COM AS INFORMAÇÕES OBTIDAS"
   ]
  },
  {
   "cell_type": "code",
   "execution_count": 33,
   "metadata": {},
   "outputs": [],
   "source": [
    "#AGRUPAMENTO POR MÊS\n",
    "agrupamento_mes_ilesos_2019 = pd.DataFrame(df_meses_2019.groupby(df_meses_2019['data_inversa'].dt.month)['ilesos'].sum())"
   ]
  },
  {
   "cell_type": "markdown",
   "metadata": {},
   "source": [
    "*Usei a ferramenta .groupby para agrupar o número total de pessoas em seus respectivos meses do ano de 2019\n",
    "\n",
    "*CRIEI UM NOVO DATA FRAME COM AS INFORMAÇÕES OBTIDAS"
   ]
  },
  {
   "cell_type": "code",
   "execution_count": 34,
   "metadata": {},
   "outputs": [],
   "source": [
    "#AGRUPAMENTO POR MÊS DO TOTAL DE PESSOAS\n",
    "agrupamento_mes_total_2019 = pd.DataFrame(df_meses_2019.groupby(df_meses_2019['data_inversa'].dt.month)['pessoas'].sum())"
   ]
  },
  {
   "cell_type": "markdown",
   "metadata": {},
   "source": [
    "FIZ A JUNÇÃO DOS DOIS DATAFRAMES NOVOS CRIADOS PARA FAZER A OPERAÇÃO DE RELAÇÃO ENTRE OS VALORES USANDO A FUNÇÃO PANDAS .concat()"
   ]
  },
  {
   "cell_type": "code",
   "execution_count": 35,
   "metadata": {},
   "outputs": [],
   "source": [
    "df_relacao_ilesas_2019 = pd.concat([agrupamento_mes_ilesos_2019, agrupamento_mes_total_2019], axis=1)"
   ]
  },
  {
   "cell_type": "markdown",
   "metadata": {},
   "source": [
    "ENTÃO, FIZ A RELAÇÃO ENTRE O NÚMERO DE PESSOAS ILESAS DO ACIDENTE COM O TOTAL DE PESSOAS DE CADA MÊS E CRIEI UMA NOVA COLUNA PARA MOSTRAR ESTE RESULTADO"
   ]
  },
  {
   "cell_type": "code",
   "execution_count": 36,
   "metadata": {},
   "outputs": [
    {
     "data": {
      "text/html": [
       "<div>\n",
       "<style scoped>\n",
       "    .dataframe tbody tr th:only-of-type {\n",
       "        vertical-align: middle;\n",
       "    }\n",
       "\n",
       "    .dataframe tbody tr th {\n",
       "        vertical-align: top;\n",
       "    }\n",
       "\n",
       "    .dataframe thead th {\n",
       "        text-align: right;\n",
       "    }\n",
       "</style>\n",
       "<table border=\"1\" class=\"dataframe\">\n",
       "  <thead>\n",
       "    <tr style=\"text-align: right;\">\n",
       "      <th></th>\n",
       "      <th>ilesos</th>\n",
       "      <th>pessoas</th>\n",
       "      <th>proporção (ilesos/total) 2019</th>\n",
       "    </tr>\n",
       "    <tr>\n",
       "      <th>data_inversa</th>\n",
       "      <th></th>\n",
       "      <th></th>\n",
       "      <th></th>\n",
       "    </tr>\n",
       "  </thead>\n",
       "  <tbody>\n",
       "    <tr>\n",
       "      <th>1</th>\n",
       "      <td>5562</td>\n",
       "      <td>13111</td>\n",
       "      <td>0.424224</td>\n",
       "    </tr>\n",
       "    <tr>\n",
       "      <th>2</th>\n",
       "      <td>5004</td>\n",
       "      <td>11799</td>\n",
       "      <td>0.424104</td>\n",
       "    </tr>\n",
       "    <tr>\n",
       "      <th>3</th>\n",
       "      <td>5878</td>\n",
       "      <td>13569</td>\n",
       "      <td>0.433193</td>\n",
       "    </tr>\n",
       "    <tr>\n",
       "      <th>4</th>\n",
       "      <td>5327</td>\n",
       "      <td>12815</td>\n",
       "      <td>0.415685</td>\n",
       "    </tr>\n",
       "    <tr>\n",
       "      <th>5</th>\n",
       "      <td>5312</td>\n",
       "      <td>12795</td>\n",
       "      <td>0.415162</td>\n",
       "    </tr>\n",
       "    <tr>\n",
       "      <th>6</th>\n",
       "      <td>5683</td>\n",
       "      <td>13411</td>\n",
       "      <td>0.423757</td>\n",
       "    </tr>\n",
       "    <tr>\n",
       "      <th>7</th>\n",
       "      <td>6260</td>\n",
       "      <td>14331</td>\n",
       "      <td>0.436815</td>\n",
       "    </tr>\n",
       "    <tr>\n",
       "      <th>8</th>\n",
       "      <td>5544</td>\n",
       "      <td>13421</td>\n",
       "      <td>0.413084</td>\n",
       "    </tr>\n",
       "    <tr>\n",
       "      <th>9</th>\n",
       "      <td>5761</td>\n",
       "      <td>13682</td>\n",
       "      <td>0.421064</td>\n",
       "    </tr>\n",
       "    <tr>\n",
       "      <th>10</th>\n",
       "      <td>5836</td>\n",
       "      <td>13931</td>\n",
       "      <td>0.418922</td>\n",
       "    </tr>\n",
       "    <tr>\n",
       "      <th>11</th>\n",
       "      <td>5886</td>\n",
       "      <td>13823</td>\n",
       "      <td>0.425812</td>\n",
       "    </tr>\n",
       "    <tr>\n",
       "      <th>12</th>\n",
       "      <td>6581</td>\n",
       "      <td>15585</td>\n",
       "      <td>0.422265</td>\n",
       "    </tr>\n",
       "  </tbody>\n",
       "</table>\n",
       "</div>"
      ],
      "text/plain": [
       "              ilesos  pessoas  proporção (ilesos/total) 2019\n",
       "data_inversa                                                \n",
       "1               5562    13111                       0.424224\n",
       "2               5004    11799                       0.424104\n",
       "3               5878    13569                       0.433193\n",
       "4               5327    12815                       0.415685\n",
       "5               5312    12795                       0.415162\n",
       "6               5683    13411                       0.423757\n",
       "7               6260    14331                       0.436815\n",
       "8               5544    13421                       0.413084\n",
       "9               5761    13682                       0.421064\n",
       "10              5836    13931                       0.418922\n",
       "11              5886    13823                       0.425812\n",
       "12              6581    15585                       0.422265"
      ]
     },
     "execution_count": 36,
     "metadata": {},
     "output_type": "execute_result"
    }
   ],
   "source": [
    "df_relacao_ilesas_2019['proporção (ilesos/total) 2019'] = df_relacao_ilesas_2019['ilesos'] / df_relacao_ilesas_2019['pessoas']\n",
    "df_relacao_ilesas_2019"
   ]
  },
  {
   "cell_type": "markdown",
   "metadata": {},
   "source": [
    "# **RELAÇÃO FERIDOS GRAVES/TOTAL DE PESSOAS - 2019**"
   ]
  },
  {
   "cell_type": "markdown",
   "metadata": {},
   "source": [
    "*Usei a ferramenta .groupby para agrupar o número de pessoas FERIDAS GRAVEMENTE em seus respectivos meses do ano de 2019\n",
    "\n",
    "*CRIEI UM NOVO DATA FRAME COM AS INFORMAÇÕES OBTIDAS"
   ]
  },
  {
   "cell_type": "code",
   "execution_count": 37,
   "metadata": {},
   "outputs": [],
   "source": [
    "#AGRUPAMENTO POR MÊS DOS FERIDOS GRAVEMENTE\n",
    "agrupamento_mes_feridosGrave_2019 = pd.DataFrame(df_meses_2019.groupby(df_meses_2019['data_inversa'].dt.month)['feridos_graves'].sum())"
   ]
  },
  {
   "cell_type": "markdown",
   "metadata": {},
   "source": [
    "FIZ A JUNÇÃO DOS DOIS DATAFRAMES NOVOS CRIADOS PARA FAZER A OPERAÇÃO DE RELAÇÃO ENTRE OS VALORES USANDO A FUNÇÃO PANDAS .concat()"
   ]
  },
  {
   "cell_type": "code",
   "execution_count": 38,
   "metadata": {},
   "outputs": [],
   "source": [
    "df_relacao_feridosGrave_2019 = pd.concat([agrupamento_mes_feridosGrave_2019, agrupamento_mes_total_2019], axis=1)"
   ]
  },
  {
   "cell_type": "markdown",
   "metadata": {},
   "source": [
    "ENTÃO, FIZ A RELAÇÃO ENTRE O NÚMERO DE PESSOAS FERIDAS GRAVEMENTE DO ACIDENTE COM O TOTAL DE PESSOAS DE CADA MÊS E CRIEI UMA NOVA COLUNA PARA MOSTRAR ESTE RESULTADO"
   ]
  },
  {
   "cell_type": "code",
   "execution_count": 39,
   "metadata": {},
   "outputs": [
    {
     "data": {
      "text/html": [
       "<div>\n",
       "<style scoped>\n",
       "    .dataframe tbody tr th:only-of-type {\n",
       "        vertical-align: middle;\n",
       "    }\n",
       "\n",
       "    .dataframe tbody tr th {\n",
       "        vertical-align: top;\n",
       "    }\n",
       "\n",
       "    .dataframe thead th {\n",
       "        text-align: right;\n",
       "    }\n",
       "</style>\n",
       "<table border=\"1\" class=\"dataframe\">\n",
       "  <thead>\n",
       "    <tr style=\"text-align: right;\">\n",
       "      <th></th>\n",
       "      <th>feridos_graves</th>\n",
       "      <th>pessoas</th>\n",
       "      <th>proporção (feridos_graves/total) 2019</th>\n",
       "    </tr>\n",
       "    <tr>\n",
       "      <th>data_inversa</th>\n",
       "      <th></th>\n",
       "      <th></th>\n",
       "      <th></th>\n",
       "    </tr>\n",
       "  </thead>\n",
       "  <tbody>\n",
       "    <tr>\n",
       "      <th>1</th>\n",
       "      <td>1485</td>\n",
       "      <td>13111</td>\n",
       "      <td>0.113264</td>\n",
       "    </tr>\n",
       "    <tr>\n",
       "      <th>2</th>\n",
       "      <td>1260</td>\n",
       "      <td>11799</td>\n",
       "      <td>0.106789</td>\n",
       "    </tr>\n",
       "    <tr>\n",
       "      <th>3</th>\n",
       "      <td>1555</td>\n",
       "      <td>13569</td>\n",
       "      <td>0.114599</td>\n",
       "    </tr>\n",
       "    <tr>\n",
       "      <th>4</th>\n",
       "      <td>1358</td>\n",
       "      <td>12815</td>\n",
       "      <td>0.105970</td>\n",
       "    </tr>\n",
       "    <tr>\n",
       "      <th>5</th>\n",
       "      <td>1545</td>\n",
       "      <td>12795</td>\n",
       "      <td>0.120750</td>\n",
       "    </tr>\n",
       "    <tr>\n",
       "      <th>6</th>\n",
       "      <td>1631</td>\n",
       "      <td>13411</td>\n",
       "      <td>0.121617</td>\n",
       "    </tr>\n",
       "    <tr>\n",
       "      <th>7</th>\n",
       "      <td>1672</td>\n",
       "      <td>14331</td>\n",
       "      <td>0.116670</td>\n",
       "    </tr>\n",
       "    <tr>\n",
       "      <th>8</th>\n",
       "      <td>1566</td>\n",
       "      <td>13421</td>\n",
       "      <td>0.116683</td>\n",
       "    </tr>\n",
       "    <tr>\n",
       "      <th>9</th>\n",
       "      <td>1514</td>\n",
       "      <td>13682</td>\n",
       "      <td>0.110656</td>\n",
       "    </tr>\n",
       "    <tr>\n",
       "      <th>10</th>\n",
       "      <td>1669</td>\n",
       "      <td>13931</td>\n",
       "      <td>0.119805</td>\n",
       "    </tr>\n",
       "    <tr>\n",
       "      <th>11</th>\n",
       "      <td>1535</td>\n",
       "      <td>13823</td>\n",
       "      <td>0.111047</td>\n",
       "    </tr>\n",
       "    <tr>\n",
       "      <th>12</th>\n",
       "      <td>1783</td>\n",
       "      <td>15585</td>\n",
       "      <td>0.114405</td>\n",
       "    </tr>\n",
       "  </tbody>\n",
       "</table>\n",
       "</div>"
      ],
      "text/plain": [
       "              feridos_graves  pessoas  proporção (feridos_graves/total) 2019\n",
       "data_inversa                                                                \n",
       "1                       1485    13111                               0.113264\n",
       "2                       1260    11799                               0.106789\n",
       "3                       1555    13569                               0.114599\n",
       "4                       1358    12815                               0.105970\n",
       "5                       1545    12795                               0.120750\n",
       "6                       1631    13411                               0.121617\n",
       "7                       1672    14331                               0.116670\n",
       "8                       1566    13421                               0.116683\n",
       "9                       1514    13682                               0.110656\n",
       "10                      1669    13931                               0.119805\n",
       "11                      1535    13823                               0.111047\n",
       "12                      1783    15585                               0.114405"
      ]
     },
     "execution_count": 39,
     "metadata": {},
     "output_type": "execute_result"
    }
   ],
   "source": [
    "df_relacao_feridosGrave_2019['proporção (feridos_graves/total) 2019'] = df_relacao_feridosGrave_2019['feridos_graves'] / df_relacao_feridosGrave_2019['pessoas']\n",
    "df_relacao_feridosGrave_2019"
   ]
  },
  {
   "cell_type": "markdown",
   "metadata": {},
   "source": [
    "# 2020"
   ]
  },
  {
   "cell_type": "markdown",
   "metadata": {},
   "source": [
    "Transformar a coluna 'data_inversa' no tipo 'datatime64', para poder manipular os dados através das datas!"
   ]
  },
  {
   "cell_type": "code",
   "execution_count": 40,
   "metadata": {},
   "outputs": [],
   "source": [
    "df_meses_2020 = (df_2020)\n",
    "df_meses_2020['data_inversa'] = pd.to_datetime(df_meses_2020['data_inversa'])"
   ]
  },
  {
   "cell_type": "markdown",
   "metadata": {},
   "source": [
    "# RELAÇÃO ILESOS/TOTAL DE PESSOAS - 2020"
   ]
  },
  {
   "cell_type": "markdown",
   "metadata": {},
   "source": [
    "*Usei a ferramenta .groupby para agrupar o número de pessoas ilesas em seus respectivos meses do ano de 2020\n",
    "\n",
    "*CRIEI UM NOVO DATA FRAME COM AS INFORMAÇÕES OBTIDAS"
   ]
  },
  {
   "cell_type": "code",
   "execution_count": 41,
   "metadata": {},
   "outputs": [],
   "source": [
    "#AGRUPAMENTO POR MÊS\n",
    "agrupamento_mes_ilesos_2020 = pd.DataFrame(df_meses_2020.groupby(df_meses_2020['data_inversa'].dt.month)['ilesos'].sum())"
   ]
  },
  {
   "cell_type": "markdown",
   "metadata": {},
   "source": [
    "*Usei a ferramenta .groupby para agrupar o número total de pessoas em seus respectivos meses do ano de 2020\n",
    "\n",
    "*CRIEI UM NOVO DATA FRAME COM AS INFORMAÇÕES OBTIDAS"
   ]
  },
  {
   "cell_type": "code",
   "execution_count": 42,
   "metadata": {},
   "outputs": [],
   "source": [
    "#AGRUPAMENTO POR MÊS DO TOTAL DE PESSOAS\n",
    "agrupamento_mes_total_2020 = pd.DataFrame(df_meses_2020.groupby(df_meses_2020['data_inversa'].dt.month)['pessoas'].sum())"
   ]
  },
  {
   "cell_type": "markdown",
   "metadata": {},
   "source": [
    "FIZ A JUNÇÃO DOS DOIS DATAFRAMES NOVOS CRIADOS PARA FAZER A OPERAÇÃO DE RELAÇÃO ENTRE OS VALORES USANDO A FUNÇÃO PANDAS .concat()"
   ]
  },
  {
   "cell_type": "code",
   "execution_count": 43,
   "metadata": {},
   "outputs": [],
   "source": [
    "df_relacao_ilesas_2020 = pd.concat([agrupamento_mes_ilesos_2020, agrupamento_mes_total_2020], axis=1)"
   ]
  },
  {
   "cell_type": "markdown",
   "metadata": {},
   "source": [
    "ENTÃO, FIZ A RELAÇÃO ENTRE O NÚMERO DE PESSOAS ILESAS DO ACIDENTE COM O TOTAL DE PESSOAS DE CADA MÊS E CRIEI UMA NOVA COLUNA PARA MOSTRAR ESTE RESULTADO"
   ]
  },
  {
   "cell_type": "code",
   "execution_count": 44,
   "metadata": {},
   "outputs": [
    {
     "data": {
      "text/html": [
       "<div>\n",
       "<style scoped>\n",
       "    .dataframe tbody tr th:only-of-type {\n",
       "        vertical-align: middle;\n",
       "    }\n",
       "\n",
       "    .dataframe tbody tr th {\n",
       "        vertical-align: top;\n",
       "    }\n",
       "\n",
       "    .dataframe thead th {\n",
       "        text-align: right;\n",
       "    }\n",
       "</style>\n",
       "<table border=\"1\" class=\"dataframe\">\n",
       "  <thead>\n",
       "    <tr style=\"text-align: right;\">\n",
       "      <th></th>\n",
       "      <th>ilesos</th>\n",
       "      <th>pessoas</th>\n",
       "      <th>proporção (ilesos/total) 2020</th>\n",
       "    </tr>\n",
       "    <tr>\n",
       "      <th>data_inversa</th>\n",
       "      <th></th>\n",
       "      <th></th>\n",
       "      <th></th>\n",
       "    </tr>\n",
       "  </thead>\n",
       "  <tbody>\n",
       "    <tr>\n",
       "      <th>1</th>\n",
       "      <td>5847</td>\n",
       "      <td>14070</td>\n",
       "      <td>0.415565</td>\n",
       "    </tr>\n",
       "    <tr>\n",
       "      <th>2</th>\n",
       "      <td>5537</td>\n",
       "      <td>13183</td>\n",
       "      <td>0.420011</td>\n",
       "    </tr>\n",
       "    <tr>\n",
       "      <th>3</th>\n",
       "      <td>4321</td>\n",
       "      <td>10775</td>\n",
       "      <td>0.401021</td>\n",
       "    </tr>\n",
       "    <tr>\n",
       "      <th>4</th>\n",
       "      <td>3155</td>\n",
       "      <td>8385</td>\n",
       "      <td>0.376267</td>\n",
       "    </tr>\n",
       "    <tr>\n",
       "      <th>5</th>\n",
       "      <td>4043</td>\n",
       "      <td>10074</td>\n",
       "      <td>0.401330</td>\n",
       "    </tr>\n",
       "    <tr>\n",
       "      <th>6</th>\n",
       "      <td>4425</td>\n",
       "      <td>10454</td>\n",
       "      <td>0.423283</td>\n",
       "    </tr>\n",
       "    <tr>\n",
       "      <th>7</th>\n",
       "      <td>4934</td>\n",
       "      <td>11628</td>\n",
       "      <td>0.424321</td>\n",
       "    </tr>\n",
       "    <tr>\n",
       "      <th>8</th>\n",
       "      <td>5454</td>\n",
       "      <td>12881</td>\n",
       "      <td>0.423414</td>\n",
       "    </tr>\n",
       "    <tr>\n",
       "      <th>9</th>\n",
       "      <td>5486</td>\n",
       "      <td>13187</td>\n",
       "      <td>0.416016</td>\n",
       "    </tr>\n",
       "    <tr>\n",
       "      <th>10</th>\n",
       "      <td>5960</td>\n",
       "      <td>14501</td>\n",
       "      <td>0.411006</td>\n",
       "    </tr>\n",
       "    <tr>\n",
       "      <th>11</th>\n",
       "      <td>5491</td>\n",
       "      <td>13490</td>\n",
       "      <td>0.407042</td>\n",
       "    </tr>\n",
       "    <tr>\n",
       "      <th>12</th>\n",
       "      <td>6205</td>\n",
       "      <td>15050</td>\n",
       "      <td>0.412292</td>\n",
       "    </tr>\n",
       "  </tbody>\n",
       "</table>\n",
       "</div>"
      ],
      "text/plain": [
       "              ilesos  pessoas  proporção (ilesos/total) 2020\n",
       "data_inversa                                                \n",
       "1               5847    14070                       0.415565\n",
       "2               5537    13183                       0.420011\n",
       "3               4321    10775                       0.401021\n",
       "4               3155     8385                       0.376267\n",
       "5               4043    10074                       0.401330\n",
       "6               4425    10454                       0.423283\n",
       "7               4934    11628                       0.424321\n",
       "8               5454    12881                       0.423414\n",
       "9               5486    13187                       0.416016\n",
       "10              5960    14501                       0.411006\n",
       "11              5491    13490                       0.407042\n",
       "12              6205    15050                       0.412292"
      ]
     },
     "execution_count": 44,
     "metadata": {},
     "output_type": "execute_result"
    }
   ],
   "source": [
    "df_relacao_ilesas_2020['proporção (ilesos/total) 2020'] = df_relacao_ilesas_2020['ilesos'] / df_relacao_ilesas_2020['pessoas']\n",
    "df_relacao_ilesas_2020"
   ]
  },
  {
   "cell_type": "markdown",
   "metadata": {},
   "source": [
    "# **RELAÇÃO FERIDOS GRAVES/TOTAL DE PESSOAS - 2020**"
   ]
  },
  {
   "cell_type": "markdown",
   "metadata": {},
   "source": [
    "*Usei a ferramenta .groupby para agrupar o número de pessoas FERIDAS GRAVEMENTE em seus respectivos meses do ano de 2020\n",
    "\n",
    "*CRIEI UM NOVO DATA FRAME COM AS INFORMAÇÕES OBTIDAS"
   ]
  },
  {
   "cell_type": "code",
   "execution_count": 45,
   "metadata": {},
   "outputs": [],
   "source": [
    "#AGRUPAMENTO POR MÊS DOS FERIDOS GRAVEMENTE\n",
    "agrupamento_mes_feridosGrave_2020 = pd.DataFrame(df_meses_2020.groupby(df_meses_2020['data_inversa'].dt.month)['feridos_graves'].sum())"
   ]
  },
  {
   "cell_type": "markdown",
   "metadata": {},
   "source": [
    "FIZ A JUNÇÃO DOS DOIS DATAFRAMES NOVOS CRIADOS PARA FAZER A OPERAÇÃO DE RELAÇÃO ENTRE OS VALORES USANDO A FUNÇÃO PANDAS .concat()"
   ]
  },
  {
   "cell_type": "code",
   "execution_count": 46,
   "metadata": {},
   "outputs": [],
   "source": [
    "df_relacao_feridosGrave_2020 = pd.concat([agrupamento_mes_feridosGrave_2020, agrupamento_mes_total_2020], axis=1)"
   ]
  },
  {
   "cell_type": "markdown",
   "metadata": {},
   "source": [
    "ENTÃO, FIZ A RELAÇÃO ENTRE O NÚMERO DE PESSOAS FERIDAS GRAVEMENTE DO ACIDENTE COM O TOTAL DE PESSOAS DE CADA MÊS E CRIEI UMA NOVA COLUNA PARA MOSTRAR ESTE RESULTADO"
   ]
  },
  {
   "cell_type": "code",
   "execution_count": 47,
   "metadata": {},
   "outputs": [
    {
     "data": {
      "text/html": [
       "<div>\n",
       "<style scoped>\n",
       "    .dataframe tbody tr th:only-of-type {\n",
       "        vertical-align: middle;\n",
       "    }\n",
       "\n",
       "    .dataframe tbody tr th {\n",
       "        vertical-align: top;\n",
       "    }\n",
       "\n",
       "    .dataframe thead th {\n",
       "        text-align: right;\n",
       "    }\n",
       "</style>\n",
       "<table border=\"1\" class=\"dataframe\">\n",
       "  <thead>\n",
       "    <tr style=\"text-align: right;\">\n",
       "      <th></th>\n",
       "      <th>feridos_graves</th>\n",
       "      <th>pessoas</th>\n",
       "      <th>proporção (feridos_graves/total) 2020</th>\n",
       "    </tr>\n",
       "    <tr>\n",
       "      <th>data_inversa</th>\n",
       "      <th></th>\n",
       "      <th></th>\n",
       "      <th></th>\n",
       "    </tr>\n",
       "  </thead>\n",
       "  <tbody>\n",
       "    <tr>\n",
       "      <th>1</th>\n",
       "      <td>1512</td>\n",
       "      <td>14070</td>\n",
       "      <td>0.107463</td>\n",
       "    </tr>\n",
       "    <tr>\n",
       "      <th>2</th>\n",
       "      <td>1468</td>\n",
       "      <td>13183</td>\n",
       "      <td>0.111356</td>\n",
       "    </tr>\n",
       "    <tr>\n",
       "      <th>3</th>\n",
       "      <td>1213</td>\n",
       "      <td>10775</td>\n",
       "      <td>0.112575</td>\n",
       "    </tr>\n",
       "    <tr>\n",
       "      <th>4</th>\n",
       "      <td>989</td>\n",
       "      <td>8385</td>\n",
       "      <td>0.117949</td>\n",
       "    </tr>\n",
       "    <tr>\n",
       "      <th>5</th>\n",
       "      <td>1168</td>\n",
       "      <td>10074</td>\n",
       "      <td>0.115942</td>\n",
       "    </tr>\n",
       "    <tr>\n",
       "      <th>6</th>\n",
       "      <td>1212</td>\n",
       "      <td>10454</td>\n",
       "      <td>0.115936</td>\n",
       "    </tr>\n",
       "    <tr>\n",
       "      <th>7</th>\n",
       "      <td>1263</td>\n",
       "      <td>11628</td>\n",
       "      <td>0.108617</td>\n",
       "    </tr>\n",
       "    <tr>\n",
       "      <th>8</th>\n",
       "      <td>1535</td>\n",
       "      <td>12881</td>\n",
       "      <td>0.119168</td>\n",
       "    </tr>\n",
       "    <tr>\n",
       "      <th>9</th>\n",
       "      <td>1548</td>\n",
       "      <td>13187</td>\n",
       "      <td>0.117388</td>\n",
       "    </tr>\n",
       "    <tr>\n",
       "      <th>10</th>\n",
       "      <td>1736</td>\n",
       "      <td>14501</td>\n",
       "      <td>0.119716</td>\n",
       "    </tr>\n",
       "    <tr>\n",
       "      <th>11</th>\n",
       "      <td>1624</td>\n",
       "      <td>13490</td>\n",
       "      <td>0.120385</td>\n",
       "    </tr>\n",
       "    <tr>\n",
       "      <th>12</th>\n",
       "      <td>1836</td>\n",
       "      <td>15050</td>\n",
       "      <td>0.121993</td>\n",
       "    </tr>\n",
       "  </tbody>\n",
       "</table>\n",
       "</div>"
      ],
      "text/plain": [
       "              feridos_graves  pessoas  proporção (feridos_graves/total) 2020\n",
       "data_inversa                                                                \n",
       "1                       1512    14070                               0.107463\n",
       "2                       1468    13183                               0.111356\n",
       "3                       1213    10775                               0.112575\n",
       "4                        989     8385                               0.117949\n",
       "5                       1168    10074                               0.115942\n",
       "6                       1212    10454                               0.115936\n",
       "7                       1263    11628                               0.108617\n",
       "8                       1535    12881                               0.119168\n",
       "9                       1548    13187                               0.117388\n",
       "10                      1736    14501                               0.119716\n",
       "11                      1624    13490                               0.120385\n",
       "12                      1836    15050                               0.121993"
      ]
     },
     "execution_count": 47,
     "metadata": {},
     "output_type": "execute_result"
    }
   ],
   "source": [
    "df_relacao_feridosGrave_2020['proporção (feridos_graves/total) 2020'] = df_relacao_feridosGrave_2020['feridos_graves'] / df_relacao_feridosGrave_2020['pessoas']\n",
    "df_relacao_feridosGrave_2020"
   ]
  },
  {
   "cell_type": "markdown",
   "metadata": {},
   "source": [
    "<div class=\"alert alert-block alert-info\">\n",
    "(c) mostre, reorganizando o conjunto de dados, se a pandemia conseguiu diminuir ou não\n",
    "a incidência de acidentes nas rodovias federais.\n",
    "</div>"
   ]
  },
  {
   "cell_type": "markdown",
   "metadata": {},
   "source": [
    "Criei um DataFrame que une os anos de 2018 e 2019(anos nos quais não existira pandemia)"
   ]
  },
  {
   "cell_type": "code",
   "execution_count": 48,
   "metadata": {},
   "outputs": [
    {
     "data": {
      "text/html": [
       "<div>\n",
       "<style scoped>\n",
       "    .dataframe tbody tr th:only-of-type {\n",
       "        vertical-align: middle;\n",
       "    }\n",
       "\n",
       "    .dataframe tbody tr th {\n",
       "        vertical-align: top;\n",
       "    }\n",
       "\n",
       "    .dataframe thead th {\n",
       "        text-align: right;\n",
       "    }\n",
       "</style>\n",
       "<table border=\"1\" class=\"dataframe\">\n",
       "  <thead>\n",
       "    <tr style=\"text-align: right;\">\n",
       "      <th></th>\n",
       "      <th>id</th>\n",
       "      <th>data_inversa</th>\n",
       "      <th>dia_semana</th>\n",
       "      <th>horario</th>\n",
       "      <th>uf</th>\n",
       "      <th>br</th>\n",
       "      <th>km</th>\n",
       "      <th>municipio</th>\n",
       "      <th>causa_acidente</th>\n",
       "      <th>tipo_acidente</th>\n",
       "      <th>...</th>\n",
       "      <th>feridos_graves</th>\n",
       "      <th>ilesos</th>\n",
       "      <th>ignorados</th>\n",
       "      <th>feridos</th>\n",
       "      <th>veiculos</th>\n",
       "      <th>latitude</th>\n",
       "      <th>longitude</th>\n",
       "      <th>regional</th>\n",
       "      <th>delegacia</th>\n",
       "      <th>uop</th>\n",
       "    </tr>\n",
       "  </thead>\n",
       "  <tbody>\n",
       "    <tr>\n",
       "      <th>0</th>\n",
       "      <td>99973.0</td>\n",
       "      <td>2018-01-01</td>\n",
       "      <td>segunda-feira</td>\n",
       "      <td>00:20:00</td>\n",
       "      <td>RJ</td>\n",
       "      <td>116.0</td>\n",
       "      <td>303,5</td>\n",
       "      <td>RESENDE</td>\n",
       "      <td>Condutor Dormindo</td>\n",
       "      <td>Saída de leito carroçável</td>\n",
       "      <td>...</td>\n",
       "      <td>4</td>\n",
       "      <td>1</td>\n",
       "      <td>0</td>\n",
       "      <td>4</td>\n",
       "      <td>1</td>\n",
       "      <td>-22,46937</td>\n",
       "      <td>-44,44705</td>\n",
       "      <td>SR-RJ</td>\n",
       "      <td>DEL5/7</td>\n",
       "      <td>UOP03/RJ</td>\n",
       "    </tr>\n",
       "    <tr>\n",
       "      <th>1</th>\n",
       "      <td>99976.0</td>\n",
       "      <td>2018-01-01</td>\n",
       "      <td>segunda-feira</td>\n",
       "      <td>00:40:00</td>\n",
       "      <td>SC</td>\n",
       "      <td>282.0</td>\n",
       "      <td>0,4</td>\n",
       "      <td>FLORIANOPOLIS</td>\n",
       "      <td>Não guardar distância de segurança</td>\n",
       "      <td>Colisão traseira</td>\n",
       "      <td>...</td>\n",
       "      <td>2</td>\n",
       "      <td>1</td>\n",
       "      <td>0</td>\n",
       "      <td>2</td>\n",
       "      <td>2</td>\n",
       "      <td>-27,59971687</td>\n",
       "      <td>-48,57565694</td>\n",
       "      <td>SR-SC</td>\n",
       "      <td>DEL8/1</td>\n",
       "      <td>UOP01/SC</td>\n",
       "    </tr>\n",
       "    <tr>\n",
       "      <th>2</th>\n",
       "      <td>99977.0</td>\n",
       "      <td>2018-01-01</td>\n",
       "      <td>segunda-feira</td>\n",
       "      <td>00:30:00</td>\n",
       "      <td>RJ</td>\n",
       "      <td>493.0</td>\n",
       "      <td>1</td>\n",
       "      <td>ITABORAI</td>\n",
       "      <td>Ultrapassagem Indevida</td>\n",
       "      <td>Colisão frontal</td>\n",
       "      <td>...</td>\n",
       "      <td>0</td>\n",
       "      <td>3</td>\n",
       "      <td>1</td>\n",
       "      <td>1</td>\n",
       "      <td>3</td>\n",
       "      <td>-22,763901</td>\n",
       "      <td>-42,927532</td>\n",
       "      <td>SR-RJ</td>\n",
       "      <td>DEL5/4</td>\n",
       "      <td>UOP02/RJ</td>\n",
       "    </tr>\n",
       "    <tr>\n",
       "      <th>3</th>\n",
       "      <td>99981.0</td>\n",
       "      <td>2018-01-01</td>\n",
       "      <td>segunda-feira</td>\n",
       "      <td>01:15:00</td>\n",
       "      <td>RS</td>\n",
       "      <td>386.0</td>\n",
       "      <td>134</td>\n",
       "      <td>SARANDI</td>\n",
       "      <td>Ingestão de Álcool</td>\n",
       "      <td>Colisão transversal</td>\n",
       "      <td>...</td>\n",
       "      <td>0</td>\n",
       "      <td>2</td>\n",
       "      <td>0</td>\n",
       "      <td>0</td>\n",
       "      <td>2</td>\n",
       "      <td>-27,953636</td>\n",
       "      <td>-52,916374</td>\n",
       "      <td>SR-RS</td>\n",
       "      <td>DEL9/14</td>\n",
       "      <td>UOP01/RS</td>\n",
       "    </tr>\n",
       "    <tr>\n",
       "      <th>4</th>\n",
       "      <td>99982.0</td>\n",
       "      <td>2018-01-01</td>\n",
       "      <td>segunda-feira</td>\n",
       "      <td>00:20:00</td>\n",
       "      <td>RS</td>\n",
       "      <td>293.0</td>\n",
       "      <td>151,7</td>\n",
       "      <td>CANDIOTA</td>\n",
       "      <td>Falta de Atenção à Condução</td>\n",
       "      <td>Saída de leito carroçável</td>\n",
       "      <td>...</td>\n",
       "      <td>1</td>\n",
       "      <td>0</td>\n",
       "      <td>0</td>\n",
       "      <td>1</td>\n",
       "      <td>1</td>\n",
       "      <td>-31,395214</td>\n",
       "      <td>-53,78391174</td>\n",
       "      <td>SR-RS</td>\n",
       "      <td>DEL9/11</td>\n",
       "      <td>UOP03/RS</td>\n",
       "    </tr>\n",
       "    <tr>\n",
       "      <th>...</th>\n",
       "      <td>...</td>\n",
       "      <td>...</td>\n",
       "      <td>...</td>\n",
       "      <td>...</td>\n",
       "      <td>...</td>\n",
       "      <td>...</td>\n",
       "      <td>...</td>\n",
       "      <td>...</td>\n",
       "      <td>...</td>\n",
       "      <td>...</td>\n",
       "      <td>...</td>\n",
       "      <td>...</td>\n",
       "      <td>...</td>\n",
       "      <td>...</td>\n",
       "      <td>...</td>\n",
       "      <td>...</td>\n",
       "      <td>...</td>\n",
       "      <td>...</td>\n",
       "      <td>...</td>\n",
       "      <td>...</td>\n",
       "      <td>...</td>\n",
       "    </tr>\n",
       "    <tr>\n",
       "      <th>136736</th>\n",
       "      <td>266255.0</td>\n",
       "      <td>2019-10-07</td>\n",
       "      <td>segunda-feira</td>\n",
       "      <td>09:10:00</td>\n",
       "      <td>ES</td>\n",
       "      <td>101.0</td>\n",
       "      <td>270,5</td>\n",
       "      <td>SERRA</td>\n",
       "      <td>Falta de Atenção à Condução</td>\n",
       "      <td>Tombamento</td>\n",
       "      <td>...</td>\n",
       "      <td>1</td>\n",
       "      <td>1</td>\n",
       "      <td>0</td>\n",
       "      <td>1</td>\n",
       "      <td>2</td>\n",
       "      <td>-20,23107</td>\n",
       "      <td>-40,27387</td>\n",
       "      <td>SR-ES</td>\n",
       "      <td>DEL12/2</td>\n",
       "      <td>UOP01/ES</td>\n",
       "    </tr>\n",
       "    <tr>\n",
       "      <th>136737</th>\n",
       "      <td>266406.0</td>\n",
       "      <td>2019-11-25</td>\n",
       "      <td>segunda-feira</td>\n",
       "      <td>07:20:00</td>\n",
       "      <td>PR</td>\n",
       "      <td>116.0</td>\n",
       "      <td>125</td>\n",
       "      <td>FAZENDA RIO GRANDE</td>\n",
       "      <td>Falta de Atenção à Condução</td>\n",
       "      <td>Colisão lateral</td>\n",
       "      <td>...</td>\n",
       "      <td>0</td>\n",
       "      <td>1</td>\n",
       "      <td>1</td>\n",
       "      <td>1</td>\n",
       "      <td>2</td>\n",
       "      <td>-25,59505</td>\n",
       "      <td>-49,31631</td>\n",
       "      <td>SR-PR</td>\n",
       "      <td>DEL7/1</td>\n",
       "      <td>UOP03/PR</td>\n",
       "    </tr>\n",
       "    <tr>\n",
       "      <th>136738</th>\n",
       "      <td>266434.0</td>\n",
       "      <td>2019-06-03</td>\n",
       "      <td>segunda-feira</td>\n",
       "      <td>19:00:00</td>\n",
       "      <td>CE</td>\n",
       "      <td>222.0</td>\n",
       "      <td>1,4</td>\n",
       "      <td>CAUCAIA</td>\n",
       "      <td>Não guardar distância de segurança</td>\n",
       "      <td>Colisão traseira</td>\n",
       "      <td>...</td>\n",
       "      <td>1</td>\n",
       "      <td>1</td>\n",
       "      <td>0</td>\n",
       "      <td>1</td>\n",
       "      <td>2</td>\n",
       "      <td>-3,736507</td>\n",
       "      <td>-38,65337</td>\n",
       "      <td>SR-CE</td>\n",
       "      <td>DEL16/1</td>\n",
       "      <td>UOP01/CE</td>\n",
       "    </tr>\n",
       "    <tr>\n",
       "      <th>136739</th>\n",
       "      <td>266573.0</td>\n",
       "      <td>2019-07-13</td>\n",
       "      <td>sábado</td>\n",
       "      <td>19:35:00</td>\n",
       "      <td>PR</td>\n",
       "      <td>373.0</td>\n",
       "      <td>425</td>\n",
       "      <td>CANDOI</td>\n",
       "      <td>Defeito Mecânico no Veículo</td>\n",
       "      <td>Saída de leito carroçável</td>\n",
       "      <td>...</td>\n",
       "      <td>1</td>\n",
       "      <td>0</td>\n",
       "      <td>0</td>\n",
       "      <td>1</td>\n",
       "      <td>1</td>\n",
       "      <td>-25,7118</td>\n",
       "      <td>-52,18374</td>\n",
       "      <td>SR-PR</td>\n",
       "      <td>DEL7/3</td>\n",
       "      <td>UOP02/PR</td>\n",
       "    </tr>\n",
       "    <tr>\n",
       "      <th>136740</th>\n",
       "      <td>266627.0</td>\n",
       "      <td>2019-10-22</td>\n",
       "      <td>terça-feira</td>\n",
       "      <td>20:20:00</td>\n",
       "      <td>BA</td>\n",
       "      <td>324.0</td>\n",
       "      <td>608</td>\n",
       "      <td>SIMOES FILHO</td>\n",
       "      <td>Defeito na Via</td>\n",
       "      <td>Queda de ocupante de veículo</td>\n",
       "      <td>...</td>\n",
       "      <td>0</td>\n",
       "      <td>0</td>\n",
       "      <td>0</td>\n",
       "      <td>1</td>\n",
       "      <td>1</td>\n",
       "      <td>-12,78156</td>\n",
       "      <td>-38,41656</td>\n",
       "      <td>SR-BA</td>\n",
       "      <td>DEL10/1</td>\n",
       "      <td>UOP01/BA</td>\n",
       "    </tr>\n",
       "  </tbody>\n",
       "</table>\n",
       "<p>136741 rows × 30 columns</p>\n",
       "</div>"
      ],
      "text/plain": [
       "              id data_inversa     dia_semana   horario  uf     br     km  \\\n",
       "0        99973.0   2018-01-01  segunda-feira  00:20:00  RJ  116.0  303,5   \n",
       "1        99976.0   2018-01-01  segunda-feira  00:40:00  SC  282.0    0,4   \n",
       "2        99977.0   2018-01-01  segunda-feira  00:30:00  RJ  493.0      1   \n",
       "3        99981.0   2018-01-01  segunda-feira  01:15:00  RS  386.0    134   \n",
       "4        99982.0   2018-01-01  segunda-feira  00:20:00  RS  293.0  151,7   \n",
       "...          ...          ...            ...       ...  ..    ...    ...   \n",
       "136736  266255.0   2019-10-07  segunda-feira  09:10:00  ES  101.0  270,5   \n",
       "136737  266406.0   2019-11-25  segunda-feira  07:20:00  PR  116.0    125   \n",
       "136738  266434.0   2019-06-03  segunda-feira  19:00:00  CE  222.0    1,4   \n",
       "136739  266573.0   2019-07-13         sábado  19:35:00  PR  373.0    425   \n",
       "136740  266627.0   2019-10-22    terça-feira  20:20:00  BA  324.0    608   \n",
       "\n",
       "                 municipio                      causa_acidente  \\\n",
       "0                  RESENDE                   Condutor Dormindo   \n",
       "1            FLORIANOPOLIS  Não guardar distância de segurança   \n",
       "2                 ITABORAI              Ultrapassagem Indevida   \n",
       "3                  SARANDI                  Ingestão de Álcool   \n",
       "4                 CANDIOTA         Falta de Atenção à Condução   \n",
       "...                    ...                                 ...   \n",
       "136736               SERRA         Falta de Atenção à Condução   \n",
       "136737  FAZENDA RIO GRANDE         Falta de Atenção à Condução   \n",
       "136738             CAUCAIA  Não guardar distância de segurança   \n",
       "136739              CANDOI         Defeito Mecânico no Veículo   \n",
       "136740        SIMOES FILHO                      Defeito na Via   \n",
       "\n",
       "                       tipo_acidente  ... feridos_graves ilesos ignorados  \\\n",
       "0          Saída de leito carroçável  ...              4      1         0   \n",
       "1                   Colisão traseira  ...              2      1         0   \n",
       "2                    Colisão frontal  ...              0      3         1   \n",
       "3                Colisão transversal  ...              0      2         0   \n",
       "4          Saída de leito carroçável  ...              1      0         0   \n",
       "...                              ...  ...            ...    ...       ...   \n",
       "136736                    Tombamento  ...              1      1         0   \n",
       "136737               Colisão lateral  ...              0      1         1   \n",
       "136738              Colisão traseira  ...              1      1         0   \n",
       "136739     Saída de leito carroçável  ...              1      0         0   \n",
       "136740  Queda de ocupante de veículo  ...              0      0         0   \n",
       "\n",
       "       feridos veiculos      latitude     longitude  regional  delegacia  \\\n",
       "0            4        1     -22,46937     -44,44705     SR-RJ     DEL5/7   \n",
       "1            2        2  -27,59971687  -48,57565694     SR-SC     DEL8/1   \n",
       "2            1        3    -22,763901    -42,927532     SR-RJ     DEL5/4   \n",
       "3            0        2    -27,953636    -52,916374     SR-RS    DEL9/14   \n",
       "4            1        1    -31,395214  -53,78391174     SR-RS    DEL9/11   \n",
       "...        ...      ...           ...           ...       ...        ...   \n",
       "136736       1        2     -20,23107     -40,27387     SR-ES    DEL12/2   \n",
       "136737       1        2     -25,59505     -49,31631     SR-PR     DEL7/1   \n",
       "136738       1        2     -3,736507     -38,65337     SR-CE    DEL16/1   \n",
       "136739       1        1      -25,7118     -52,18374     SR-PR     DEL7/3   \n",
       "136740       1        1     -12,78156     -38,41656     SR-BA    DEL10/1   \n",
       "\n",
       "             uop  \n",
       "0       UOP03/RJ  \n",
       "1       UOP01/SC  \n",
       "2       UOP02/RJ  \n",
       "3       UOP01/RS  \n",
       "4       UOP03/RS  \n",
       "...          ...  \n",
       "136736  UOP01/ES  \n",
       "136737  UOP03/PR  \n",
       "136738  UOP01/CE  \n",
       "136739  UOP02/PR  \n",
       "136740  UOP01/BA  \n",
       "\n",
       "[136741 rows x 30 columns]"
      ]
     },
     "execution_count": 48,
     "metadata": {},
     "output_type": "execute_result"
    }
   ],
   "source": [
    "df_18_19 = pd.concat([df_2018,df_2019], ignore_index=True)\n",
    "df_18_19"
   ]
  },
  {
   "cell_type": "markdown",
   "metadata": {},
   "source": [
    "CRIEI UM NOVO DATAFRAME E UMA NOVA COLUNA PARA INDENTIFICAR OS MESES DE CADA ACIDENDE, PEGUEI OS VALORES APENAS CONTANDO A PARTIR DO MÊS DE MARÇO PARA CONSIDERAR A PANDEMIA"
   ]
  },
  {
   "cell_type": "code",
   "execution_count": 49,
   "metadata": {},
   "outputs": [],
   "source": [
    "df_2020_1 = df_2020\n",
    "df_2020_1['mes'] = df_2020_1['data_inversa'].dt.month\n",
    "df_2020_mes3 = (df_2020_1['mes']>=3).sum()"
   ]
  },
  {
   "cell_type": "markdown",
   "metadata": {},
   "source": [
    "CRIEI UM NOVO DATAFRAME E UMA NOVA PARA INDENTIFICAR OS MESES DE CADA ACIDENTE, LOGO EM SEGUIDA PEGUEI OS VALORES DE APENAS OS MESES DE JANEIRO E FEVEREIRO DE 2020"
   ]
  },
  {
   "cell_type": "code",
   "execution_count": 50,
   "metadata": {},
   "outputs": [],
   "source": [
    "df_2020_2 = df_2020\n",
    "df_2020_2['mes'] = df_2020_2['data_inversa'].dt.month\n",
    "df_2020_JanFev = (df_2020_2['mes']<=2).sum()"
   ]
  },
  {
   "cell_type": "code",
   "execution_count": 51,
   "metadata": {},
   "outputs": [],
   "source": [
    "media_sem_pands = (len(df_18_19)+df_2020_JanFev)/26"
   ]
  },
  {
   "cell_type": "markdown",
   "metadata": {},
   "source": [
    "PEGUEI O NÚMERO DE CASOS DE ACIDENTES A PARTIR DO MÊS DE MARÇO E DIVIDI PELOS NÚMERO DE MESES RESTANTES DO ANO DE 2020 (MAR-DEZ)"
   ]
  },
  {
   "cell_type": "code",
   "execution_count": 52,
   "metadata": {},
   "outputs": [],
   "source": [
    "media_com_pands = (df_2020_mes3/10)"
   ]
  },
  {
   "cell_type": "markdown",
   "metadata": {},
   "source": [
    "CRIEI UM NOVO DATAFRAME COM AS MÉDIAS DO PERÍODO ANTES DA PANDEMIA E DO PERÍODO PÓS A PANDEMIA"
   ]
  },
  {
   "cell_type": "code",
   "execution_count": 53,
   "metadata": {},
   "outputs": [
    {
     "data": {
      "text/html": [
       "<div>\n",
       "<style scoped>\n",
       "    .dataframe tbody tr th:only-of-type {\n",
       "        vertical-align: middle;\n",
       "    }\n",
       "\n",
       "    .dataframe tbody tr th {\n",
       "        vertical-align: top;\n",
       "    }\n",
       "\n",
       "    .dataframe thead tr th {\n",
       "        text-align: left;\n",
       "    }\n",
       "</style>\n",
       "<table border=\"1\" class=\"dataframe\">\n",
       "  <thead>\n",
       "    <tr>\n",
       "      <th></th>\n",
       "      <th>Antes da Pandemia</th>\n",
       "      <th>Com Pandemia</th>\n",
       "    </tr>\n",
       "  </thead>\n",
       "  <tbody>\n",
       "    <tr>\n",
       "      <th>Média</th>\n",
       "      <td>5680.961538</td>\n",
       "      <td>5258.4</td>\n",
       "    </tr>\n",
       "  </tbody>\n",
       "</table>\n",
       "</div>"
      ],
      "text/plain": [
       "      Antes da Pandemia Com Pandemia\n",
       "Média       5680.961538       5258.4"
      ]
     },
     "execution_count": 53,
     "metadata": {},
     "output_type": "execute_result"
    }
   ],
   "source": [
    "df_medias_acidentes = pd.DataFrame(data=[[media_sem_pands,media_com_pands]], columns=[['Antes da Pandemia','Com Pandemia']], index=['Média'])\n",
    "df_medias_acidentes"
   ]
  },
  {
   "cell_type": "markdown",
   "metadata": {},
   "source": [
    "ANALISEI SE PÓS A PANDEMIA O NÚMERO DE ACIDENTES FORAM MENORES OU NÃO"
   ]
  },
  {
   "cell_type": "code",
   "execution_count": 54,
   "metadata": {},
   "outputs": [
    {
     "name": "stdout",
     "output_type": "stream",
     "text": [
      "Houve uma diminuição dos acidentes com a Pandemia!\n"
     ]
    }
   ],
   "source": [
    "if media_sem_pands <= media_com_pands:\n",
    "    print('Não houve diminução com a Pandemia!')\n",
    "else:\n",
    "    print('Houve uma diminuição dos acidentes com a Pandemia!')"
   ]
  }
 ],
 "metadata": {
  "kernelspec": {
   "display_name": "Python 3",
   "language": "python",
   "name": "python3"
  },
  "language_info": {
   "codemirror_mode": {
    "name": "ipython",
    "version": 3
   },
   "file_extension": ".py",
   "mimetype": "text/x-python",
   "name": "python",
   "nbconvert_exporter": "python",
   "pygments_lexer": "ipython3",
   "version": "3.8.8"
  }
 },
 "nbformat": 4,
 "nbformat_minor": 4
}
